{
 "cells": [
  {
   "cell_type": "markdown",
   "source": [
    "<a href=\"https://colab.research.google.com/github/hdakhli/key-concepts/blob/main/2_oop_inheritance/vehicle_program.ipynb\" target=\"_parent\"><img src=\"https://colab.research.google.com/assets/colab-badge.svg\" alt=\"Open In Colab\"/></a>"
   ],
   "metadata": {
    "collapsed": false
   },
   "id": "8ffb31edb43b5b72"
  },
  {
   "cell_type": "code",
   "execution_count": 1,
   "id": "initial_id",
   "metadata": {
    "collapsed": true,
    "ExecuteTime": {
     "end_time": "2023-10-03T14:04:56.994643Z",
     "start_time": "2023-10-03T14:04:56.991005Z"
    }
   },
   "outputs": [],
   "source": [
    "class Engine:\n",
    "\n",
    "    def start(self):\n",
    "        print(\"I'm starting...\")"
   ]
  },
  {
   "cell_type": "code",
   "execution_count": 2,
   "outputs": [],
   "source": [
    "class Vehicle:\n",
    "    def __init__(self, color: str, tires: int, engine: Engine):\n",
    "        self._color = color\n",
    "        self._tires = tires\n",
    "        self._engine = engine\n",
    "\n",
    "    def go_to(self, x: float, y: float):\n",
    "        print(f\"I'm moving to {x, y}\")\n",
    "\n",
    "    def brake(self):\n",
    "        print(\"I'm braking...\")\n",
    "\n",
    "    def start(self):\n",
    "        self._engine.start()\n",
    "\n",
    "\n",
    "class Tractor(Vehicle):\n",
    "    def __init__(self, color: str, tires: int, engine: Engine, doors: int):\n",
    "        super().__init__(color, tires, engine)\n",
    "        self._doors = doors"
   ],
   "metadata": {
    "collapsed": false,
    "ExecuteTime": {
     "end_time": "2023-10-03T14:05:20.883531Z",
     "start_time": "2023-10-03T14:05:20.881736Z"
    }
   },
   "id": "6f8e05266625791e"
  },
  {
   "cell_type": "code",
   "execution_count": 3,
   "outputs": [
    {
     "name": "stdout",
     "output_type": "stream",
     "text": [
      "I'm starting...\n"
     ]
    }
   ],
   "source": [
    "tractor = Tractor(color=\"red\", tires=4, engine=Engine(), doors=2)\n",
    "tractor.start()"
   ],
   "metadata": {
    "collapsed": false,
    "ExecuteTime": {
     "end_time": "2023-10-03T14:05:58.847942Z",
     "start_time": "2023-10-03T14:05:58.836392Z"
    }
   },
   "id": "addea19e0c40605"
  },
  {
   "cell_type": "code",
   "execution_count": null,
   "outputs": [],
   "source": [],
   "metadata": {
    "collapsed": false
   },
   "id": "c12cff4b1bcd0d2a"
  }
 ],
 "metadata": {
  "kernelspec": {
   "display_name": "Python 3",
   "language": "python",
   "name": "python3"
  },
  "language_info": {
   "codemirror_mode": {
    "name": "ipython",
    "version": 2
   },
   "file_extension": ".py",
   "mimetype": "text/x-python",
   "name": "python",
   "nbconvert_exporter": "python",
   "pygments_lexer": "ipython2",
   "version": "2.7.6"
  }
 },
 "nbformat": 4,
 "nbformat_minor": 5
}
