{
 "cells": [
  {
   "cell_type": "markdown",
   "source": [
    "# Utiliser des noms de variables significatifs et prononçables"
   ],
   "metadata": {
    "collapsed": false
   },
   "id": "93665d2eabc77dd7"
  },
  {
   "cell_type": "code",
   "execution_count": null,
   "id": "initial_id",
   "metadata": {
    "collapsed": true
   },
   "outputs": [],
   "source": [
    "import datetime\n",
    "\n",
    "ymdstr = datetime.date.today().strftime(\"%d-%m-%Y\")\n"
   ]
  },
  {
   "cell_type": "markdown",
   "source": [
    "#\n",
    "## Utiliser le même vocabulaire pour le même type de variable"
   ],
   "metadata": {
    "collapsed": false
   },
   "id": "151296eb95aa8337"
  },
  {
   "cell_type": "code",
   "execution_count": null,
   "outputs": [],
   "source": [
    "def get_user_info(): \n",
    "    # some processing here !\n",
    "    pass\n",
    "\n",
    "\n",
    "def get_client_basket():\n",
    "    # some processing here !\n",
    "    pass\n",
    "\n",
    "\n",
    "def get_customer_record():\n",
    "    pass"
   ],
   "metadata": {
    "collapsed": false
   },
   "id": "ec44ee7f9cf3b03"
  },
  {
   "cell_type": "markdown",
   "source": [
    "### Better !"
   ],
   "metadata": {
    "collapsed": false
   },
   "id": "6ee67977f5b3d397"
  },
  {
   "cell_type": "code",
   "execution_count": null,
   "outputs": [],
   "source": [
    "from typing import Union, Dict\n",
    "\n",
    "\n",
    "class Record:\n",
    "    pass\n",
    "\n",
    "\n",
    "class User:\n",
    "    info: str\n",
    "\n",
    "    def get_basket(self) -> Dict[str, str]:\n",
    "        return {}\n",
    "\n",
    "    def get_record(self) -> Union[Record, None]:\n",
    "        return Record()\n",
    "    \n",
    "user = User()\n",
    "basket = user.get_basket()\n",
    "record = user.get_record()"
   ],
   "metadata": {
    "collapsed": false
   },
   "id": "b97de16c924e8315"
  },
  {
   "cell_type": "markdown",
   "source": [
    "#\n",
    "\n",
    "## Utiliser des noms consultables et recherchables"
   ],
   "metadata": {
    "collapsed": false
   },
   "id": "c6ef1daaccf6e693"
  },
  {
   "cell_type": "code",
   "execution_count": null,
   "outputs": [],
   "source": [
    "import time\n",
    "\n",
    "# What is the number 10 for again?\n",
    "time.sleep(10)"
   ],
   "metadata": {
    "collapsed": false
   },
   "id": "fd5ec7a1827847c8"
  },
  {
   "cell_type": "markdown",
   "source": [
    "#\n",
    "\n",
    "## Eviter le mapping mental"
   ],
   "metadata": {
    "collapsed": false
   },
   "id": "caca9f849f3ae0ba"
  },
  {
   "cell_type": "code",
   "execution_count": null,
   "outputs": [],
   "source": [
    "seq = (\"Austin\", \"New York\", \"San Francisco\")\n",
    "\n",
    "for item in seq:\n",
    "    # do_stuff()\n",
    "    # do_some_other_stuff()\n",
    "\n",
    "    # Wait, what's `item` again?\n",
    "    print(item)"
   ],
   "metadata": {
    "collapsed": false
   },
   "id": "33ed73abf0ddfbdd"
  },
  {
   "cell_type": "markdown",
   "source": [
    "#\n",
    "## Les fonctions doivent faire une seule chose"
   ],
   "metadata": {
    "collapsed": false
   },
   "id": "fb303b011ea53ced"
  },
  {
   "cell_type": "code",
   "execution_count": null,
   "outputs": [],
   "source": [
    "from typing import List\n",
    "\n",
    "\n",
    "class Client:\n",
    "    active: bool\n",
    "\n",
    "\n",
    "def email(client: Client) -> None:\n",
    "    # send email to client\n",
    "    pass\n",
    "\n",
    "\n",
    "def email_clients(clients: List[Client]) -> None:\n",
    "    \"\"\"\n",
    "    Filter active clients and send them an email.\n",
    "    \"\"\"\n",
    "    for client in clients:\n",
    "        if client.active:\n",
    "            email(client)"
   ],
   "metadata": {
    "collapsed": false
   },
   "id": "6e9f4de269dcfd91"
  },
  {
   "cell_type": "code",
   "execution_count": null,
   "outputs": [],
   "source": [
    "from typing import List\n",
    "\n",
    "\n",
    "class Client:\n",
    "    active: bool\n",
    "\n",
    "\n",
    "def email(client: Client) -> None:\n",
    "    # send email to client\n",
    "    pass\n",
    "\n",
    "\n",
    "def get_active_clients(clients: List[Client]) -> List[Client]:\n",
    "    \"\"\"\n",
    "    Filter active clients.\n",
    "    \"\"\"\n",
    "    return [client for client in clients if client.active]\n",
    "\n",
    "\n",
    "def email_clients(clients: List[Client]) -> None:\n",
    "    \"\"\"\n",
    "    Send an email to a given list of clients.\n",
    "    \"\"\"\n",
    "    active_clients = get_active_clients(clients)\n",
    "    for client in active_clients:\n",
    "        email(client)"
   ],
   "metadata": {
    "collapsed": false
   },
   "id": "ace2fdace883588e"
  },
  {
   "cell_type": "markdown",
   "source": [
    "#\n",
    "## Function arguments (2 or fewer ideally)"
   ],
   "metadata": {
    "collapsed": false
   },
   "id": "b402067a94c59337"
  },
  {
   "cell_type": "code",
   "execution_count": null,
   "outputs": [],
   "source": [
    "def create_menu(title, body, button_text, cancellable):\n",
    "    pass"
   ],
   "metadata": {
    "collapsed": false
   },
   "id": "ea79abe88db9610a"
  },
  {
   "cell_type": "code",
   "execution_count": null,
   "outputs": [],
   "source": [
    "from dataclasses import astuple, dataclass\n",
    "\n",
    "\n",
    "@dataclass\n",
    "class MenuConfig:\n",
    "    \"\"\"\n",
    "    A configuration for the Menu.\n",
    "\n",
    "    Attributes:\n",
    "        title: The title of the Menu.\n",
    "        body: The body of the Menu.\n",
    "        button_text: The text for the button label.\n",
    "        cancellable: Can it be cancelled?\n",
    "    \"\"\"\n",
    "    title: str\n",
    "    body: str\n",
    "    button_text: str\n",
    "    cancellable: bool = False\n",
    "\n",
    "\n",
    "def create_menu(config: MenuConfig):\n",
    "    title, body, button_text, cancellable = astuple(config)\n",
    "    # ...\n",
    "\n",
    "\n",
    "create_menu(\n",
    "    MenuConfig(\n",
    "        title=\"My delicious menu\",\n",
    "        body=\"A description of the various items on the menu\",\n",
    "        button_text=\"Order now!\"\n",
    "    )\n",
    ")"
   ],
   "metadata": {
    "collapsed": false
   },
   "id": "8bfa704bf07c1a15"
  },
  {
   "cell_type": "markdown",
   "source": [
    "#\n",
    "## Les noms des fonctions doivent indiquer ce qu'elles font"
   ],
   "metadata": {
    "collapsed": false
   },
   "id": "b5e64ccae727e63b"
  },
  {
   "cell_type": "code",
   "execution_count": null,
   "outputs": [],
   "source": [
    "class Email:\n",
    "    def handle(self) -> None:\n",
    "        pass\n",
    "\n",
    "\n",
    "message = Email()\n",
    "# What is this supposed to do again?\n",
    "message.handle()"
   ],
   "metadata": {
    "collapsed": false
   },
   "id": "392745d45084079b"
  },
  {
   "cell_type": "markdown",
   "source": [
    "#\n",
    "## Eviter les flags dans les paramètres des fonctions"
   ],
   "metadata": {
    "collapsed": false
   },
   "id": "9560a0b7b597af7"
  },
  {
   "cell_type": "code",
   "execution_count": null,
   "outputs": [],
   "source": [
    "from tempfile import gettempdir\n",
    "from pathlib import Path\n",
    "\n",
    "\n",
    "def create_file(name: str, temp: bool) -> None:\n",
    "    if temp:\n",
    "        (Path(gettempdir()) / name).touch()\n",
    "    else:\n",
    "        Path(name).touch()"
   ],
   "metadata": {
    "collapsed": false
   },
   "id": "507d93e370df3a72"
  },
  {
   "cell_type": "markdown",
   "source": [
    "#\n",
    "##"
   ],
   "metadata": {
    "collapsed": false
   },
   "id": "35cba01a4cf631ea"
  },
  {
   "cell_type": "code",
   "execution_count": null,
   "outputs": [],
   "source": [
    "def create_file(name: str) -> None:\n",
    "    Path(name).touch()\n",
    "\n",
    "\n",
    "def create_temp_file(name: str) -> None:\n",
    "    (Path(gettempdir()) / name).touch()"
   ],
   "metadata": {
    "collapsed": false
   },
   "id": "1ece23b0a72188a8"
  },
  {
   "cell_type": "markdown",
   "source": [
    "#\n",
    "#\n",
    "# S O L I D\n",
    "#\n",
    "### Single-responsibility principle (SRP)\n",
    "### Open–closed principle (OCP)\n",
    "### Liskov substitution principle (LSP)\n",
    "### Interface segregation principle (ISP)\n",
    "### Dependency inversion principle (DIP)\n"
   ],
   "metadata": {
    "collapsed": false
   },
   "id": "395bf72f7d41f9b9"
  },
  {
   "cell_type": "markdown",
   "source": [
    "## Single Responsibility Principle\n",
    "Cela signifie qu'une classe ou une fonction ne doit avoir qu'une **seule responsabilité**"
   ],
   "metadata": {
    "collapsed": false
   },
   "id": "fdcc658bfe595e6d"
  },
  {
   "cell_type": "code",
   "execution_count": null,
   "outputs": [],
   "source": [
    "def create_user_and_send_email(user: User) -> bool:\n",
    "    # create a new user\n",
    "    # send a welcome email"
   ],
   "metadata": {
    "collapsed": false
   },
   "id": "59938625d7e7e982"
  },
  {
   "cell_type": "code",
   "execution_count": null,
   "outputs": [],
   "source": [],
   "metadata": {
    "collapsed": false
   },
   "id": "afbe31d26d664de3"
  },
  {
   "cell_type": "markdown",
   "source": [
    "#\n",
    "## Open–closed principle (OCP)\n",
    "Le Principe d’Ouverture/Fermeture préconise que les classes ou les fonctions doivent être ouvertes à l’extension, mais fermées à la modification. Ça limite le risque de générer des bugs en ajoutant des nouvelles fonctionnalités"
   ],
   "metadata": {
    "collapsed": false
   },
   "id": "d167f3033792c2c3"
  },
  {
   "cell_type": "code",
   "execution_count": null,
   "outputs": [],
   "source": [
    "class Widget:\n",
    "    def get_dashboard_widget_data(self, id: str) -> str:\n",
    "        ...\n",
    "\n",
    "    def get_pdf_widget_data(self, id: str) -> str:\n",
    "        ..."
   ],
   "metadata": {
    "collapsed": false
   },
   "id": "aca648d50bf657e8"
  },
  {
   "cell_type": "markdown",
   "source": [
    "Plutôt que d’utiliser des classes distinctes pour chaque type de widget, toutes les logiques de création des widget sont regroupées dans une seule classe. Pour ajouter un nouveau type de widget, il faut modifier la classe existante, violant ainsi le principe OCP. En appliquant l’OCP, nous pouvons diviser cette classe en deux qui pourraient hériter de Widget:"
   ],
   "metadata": {
    "collapsed": false
   },
   "id": "97cc22f9556ae015"
  },
  {
   "cell_type": "code",
   "execution_count": null,
   "outputs": [],
   "source": [],
   "metadata": {
    "collapsed": false
   },
   "id": "f2bf982ef030b832"
  },
  {
   "cell_type": "markdown",
   "source": [
    "En utilisant l'héritage et une classe de base abstraite, le code existant peut être étendu pour prendre en charge de nouvelles formes sans avoir à modifier le code existant. Par exemple, si nous voulions ajouter une forme carrée, nous pourrions simplement créer une classe Square qui hériterait de Shape et fournirait une implémentation de la méthode area. Cela respecte le principe OCP, puisque le code existant reste fermé à la modification, tandis que de nouvelles fonctionnalités peuvent être ajoutées par le biais d'une extension."
   ],
   "metadata": {
    "collapsed": false
   },
   "id": "430cd0b86941b1f2"
  },
  {
   "cell_type": "markdown",
   "source": [
    "#\n",
    "## Liskov substitution principle (LSP)\n",
    "Les objets doivent pouvoir être remplacés par des instances de leurs sous-types sans altérer la correction du programme.\n",
    "Principe enoncé par Barbara Liskov lors de sa keynote en 1987: Data abstraction & hierarchy"
   ],
   "metadata": {
    "collapsed": false
   },
   "id": "195e5b3d15af9755"
  },
  {
   "cell_type": "code",
   "execution_count": null,
   "outputs": [],
   "source": [
    "class Bird:\n",
    "    def fly(self):\n",
    "        pass\n",
    "    \n",
    "class Duck(Bird):\n",
    "    def fly(self):\n",
    "        pass\n",
    "    \n",
    "class Ostrich(Bird):\n",
    "    def fly(self):\n",
    "        raise Exception(\"I can't fly\")\n",
    "\n",
    "# Usage: \n",
    "def make_bird_fly(bird: Bird):\n",
    "    bird.fly()\n"
   ],
   "metadata": {
    "collapsed": false
   },
   "id": "a9b5b7f669b4373"
  },
  {
   "cell_type": "code",
   "execution_count": null,
   "outputs": [],
   "source": [],
   "metadata": {
    "collapsed": false
   },
   "id": "92f52219e66f32e2"
  },
  {
   "cell_type": "markdown",
   "source": [
    "#\n",
    "## Interface segregation principle (ISP)\n",
    "Le Principe de Ségrégation d’Interface déclare qu’une classe qui utilise une interface ne doit pas être forcée de dépendre des méthodes qu’elle n’utilise pas. Il faut éviter les interfaces trop larges et préférer les interfaces concises et plus petites."
   ],
   "metadata": {
    "collapsed": false
   },
   "id": "c98cafa19fe800d3"
  },
  {
   "cell_type": "code",
   "execution_count": null,
   "outputs": [],
   "source": [
    "from abc import ABC, abstractmethod\n",
    "\n",
    "class Printer(ABC):\n",
    "    @abstractmethod\n",
    "    def print(self, document):\n",
    "        pass\n",
    "\n",
    "    @abstractmethod\n",
    "    def fax(self, document):\n",
    "        pass\n",
    "\n",
    "    @abstractmethod\n",
    "    def scan(self, document):\n",
    "        pass\n",
    "\n",
    "class OldPrinter(Printer):\n",
    "    def print(self, document):\n",
    "        print(f\"Printing {document} in black and white...\")\n",
    "\n",
    "    def fax(self, document):\n",
    "        raise NotImplementedError(\"Fax functionality not supported\")\n",
    "\n",
    "    def scan(self, document):\n",
    "        raise NotImplementedError(\"Scan functionality not supported\")\n",
    "\n",
    "class ModernPrinter(Printer):\n",
    "    def print(self, document):\n",
    "        print(f\"Printing {document} in color...\")\n",
    "\n",
    "    def fax(self, document):\n",
    "        print(f\"Faxing {document}...\")\n",
    "\n",
    "    def scan(self, document):\n",
    "        print(f\"Scanning {document}...\")\n"
   ],
   "metadata": {
    "collapsed": false
   },
   "id": "af1bbff35012cca7"
  },
  {
   "cell_type": "markdown",
   "source": [
    "#"
   ],
   "metadata": {
    "collapsed": false
   },
   "id": "6127c21ea9523170"
  },
  {
   "cell_type": "code",
   "execution_count": null,
   "outputs": [],
   "source": [
    "from abc import ABC, abstractmethod\n",
    "\n",
    "class Printer(ABC):\n",
    "    @abstractmethod\n",
    "    def print(self, document):\n",
    "        pass\n",
    "\n",
    "class Fax(ABC):\n",
    "    @abstractmethod\n",
    "    def fax(self, document):\n",
    "        pass\n",
    "\n",
    "class Scanner(ABC):\n",
    "    @abstractmethod\n",
    "    def scan(self, document):\n",
    "        pass\n",
    "\n",
    "class OldPrinter(Printer):\n",
    "    def print(self, document):\n",
    "        print(f\"Printing {document} in black and white...\")\n",
    "\n",
    "class NewPrinter(Printer, Fax, Scanner):\n",
    "    def print(self, document):\n",
    "        print(f\"Printing {document} in color...\")\n",
    "\n",
    "    def fax(self, document):\n",
    "        print(f\"Faxing {document}...\")\n",
    "\n",
    "    def scan(self, document):\n",
    "        print(f\"Scanning {document}...\")"
   ],
   "metadata": {
    "collapsed": false
   },
   "id": "ae4dcbd1fb903e1e"
  },
  {
   "cell_type": "markdown",
   "source": [
    "#\n",
    "## Dependency inversion principle (DIP)\n",
    "\n",
    "Le principe d’Inversion de Dépendance préconise que les modules de haut niveau ne devraient pas dépendre des modules de bas niveau, mais plutôt des abstractions. En Python, cela peut être réalisé en utilisant des interfaces ou des classes abstraites pour définir les contrats entre les différentes parties du code. Cela permet de réduire les dépendances directes et facilite le remplacement des composants sans affecter le reste du système."
   ],
   "metadata": {
    "collapsed": false
   },
   "id": "e5bad685289880d0"
  },
  {
   "cell_type": "code",
   "execution_count": null,
   "outputs": [],
   "source": [
    "\n",
    "class MessageService(ABC):\n",
    "    @abstractmethod\n",
    "    def send(self, message):\n",
    "        ...\n",
    "    \n",
    "class EmailService(MessageService):\n",
    "    def send(self, message):\n",
    "        print(f\"Emailing {message}\")\n",
    "\n",
    "class SMSService(MessageService):\n",
    "    def send(self, message):\n",
    "        print(f\"Texting {message}\")\n",
    "        \n",
    "# Usage\n",
    "class SMSSender:\n",
    "    def __init__(self, sms_service: SMSService):\n",
    "        self.sms_service = sms_service\n",
    "\n",
    "    def send(self, message):\n",
    "        self.message_service.send(message)\n"
   ],
   "metadata": {
    "collapsed": false
   },
   "id": "964a8d933c90808c"
  },
  {
   "cell_type": "markdown",
   "source": [
    "#"
   ],
   "metadata": {
    "collapsed": false
   },
   "id": "3c313f8c64c74227"
  },
  {
   "cell_type": "code",
   "execution_count": null,
   "outputs": [],
   "source": [],
   "metadata": {
    "collapsed": false
   },
   "id": "dbef34cd30da70ae"
  }
 ],
 "metadata": {
  "kernelspec": {
   "display_name": "Python 3",
   "language": "python",
   "name": "python3"
  },
  "language_info": {
   "codemirror_mode": {
    "name": "ipython",
    "version": 2
   },
   "file_extension": ".py",
   "mimetype": "text/x-python",
   "name": "python",
   "nbconvert_exporter": "python",
   "pygments_lexer": "ipython2",
   "version": "2.7.6"
  }
 },
 "nbformat": 4,
 "nbformat_minor": 5
}
