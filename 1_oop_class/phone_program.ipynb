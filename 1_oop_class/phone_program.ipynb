{
 "cells": [
  {
   "cell_type": "markdown",
   "source": [
    "<a href=\"https://colab.research.google.com/github/hdakhli/key-concepts/blob/main/1_oop_class/phone_program.ipynb\" target=\"_parent\"><img src=\"https://colab.research.google.com/assets/colab-badge.svg\" alt=\"Open In Colab\"/></a>"
   ],
   "metadata": {
    "collapsed": false
   },
   "id": "9424a19d046c8154"
  },
  {
   "cell_type": "code",
   "execution_count": 1,
   "outputs": [],
   "source": [
    "class Phone:\n",
    "    def __init__(self, brand: str, color: str, ram: int, storage: int):\n",
    "        self._brand = brand\n",
    "        self._color = color\n",
    "        self._ram = ram\n",
    "        self._storage = storage\n",
    "\n",
    "    def display_phone_specifications(self):\n",
    "        print(f\"brand: {self._color}, color: {self._color}, \"\n",
    "              f\"ram: {self._ram}, storage: {self._storage}\")\n",
    "\n",
    "    def call(self, phone_num: str):\n",
    "        print(f\"I'm calling: {phone_num}\")\n",
    "\n",
    "    def send_sms(self, phone_num: str):\n",
    "        print(f\"I'm sending text message to: {phone_num}\")"
   ],
   "metadata": {
    "collapsed": false,
    "ExecuteTime": {
     "end_time": "2023-10-03T13:55:11.554203Z",
     "start_time": "2023-10-03T13:55:11.546871Z"
    }
   },
   "id": "a4820b4347470c3d"
  },
  {
   "cell_type": "code",
   "execution_count": 2,
   "outputs": [],
   "source": [
    "samsung = Phone(\"Samsung\", \"black\", 2048, 60)\n",
    "xiaomi = Phone(\"Xiaomi\", \"Red\", 4096, 120)\n",
    "sony = Phone(\"Sony\", \"Blue\", 4096, 250)"
   ],
   "metadata": {
    "collapsed": false,
    "ExecuteTime": {
     "end_time": "2023-10-03T13:55:13.068488Z",
     "start_time": "2023-10-03T13:55:13.064212Z"
    }
   },
   "id": "faca8facd3aecf58"
  },
  {
   "cell_type": "code",
   "execution_count": 4,
   "outputs": [
    {
     "name": "stdout",
     "output_type": "stream",
     "text": [
      "brand: black, color: black, ram: 2048, storage: 60\n",
      "I'm calling: 333333\n"
     ]
    }
   ],
   "source": [
    "samsung.display_phone_specifications()\n",
    "samsung.call(\"333333\")"
   ],
   "metadata": {
    "collapsed": false,
    "ExecuteTime": {
     "end_time": "2023-10-03T13:55:35.948851Z",
     "start_time": "2023-10-03T13:55:35.941169Z"
    }
   },
   "id": "5a027bbb60430993"
  },
  {
   "cell_type": "code",
   "execution_count": null,
   "outputs": [],
   "source": [],
   "metadata": {
    "collapsed": false
   },
   "id": "bb8b71e6d69d96da"
  }
 ],
 "metadata": {
  "kernelspec": {
   "display_name": "Python 3",
   "language": "python",
   "name": "python3"
  },
  "language_info": {
   "codemirror_mode": {
    "name": "ipython",
    "version": 2
   },
   "file_extension": ".py",
   "mimetype": "text/x-python",
   "name": "python",
   "nbconvert_exporter": "python",
   "pygments_lexer": "ipython2",
   "version": "2.7.6"
  }
 },
 "nbformat": 4,
 "nbformat_minor": 5
}
