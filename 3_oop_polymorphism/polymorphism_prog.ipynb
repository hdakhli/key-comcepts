{
 "cells": [
  {
   "cell_type": "markdown",
   "source": [
    "<a href=\"https://colab.research.google.com/github/hdakhli/key-concepts/blob/main/3_oop_polymorphism/polymorphism_prog.ipynb\" target=\"_parent\"><img src=\"https://colab.research.google.com/assets/colab-badge.svg\" alt=\"Open In Colab\"/></a>"
   ],
   "metadata": {
    "collapsed": false
   },
   "id": "7f03ee14682c596c"
  },
  {
   "cell_type": "markdown",
   "source": [
    "## Polymorphisme de fonctions"
   ],
   "metadata": {
    "collapsed": false
   },
   "id": "f1ede61863246cdf"
  },
  {
   "cell_type": "code",
   "execution_count": 1,
   "id": "initial_id",
   "metadata": {
    "collapsed": true,
    "ExecuteTime": {
     "end_time": "2023-09-24T06:17:38.381759Z",
     "start_time": "2023-09-24T06:17:38.377798Z"
    }
   },
   "outputs": [],
   "source": [
    "def polymorphic_methods():\n",
    "    print(len(\"CentraleCasa\"))\n",
    "    print(len([\"Python\", \"Java\", \"C\"]))\n",
    "    print(len({\"name\": \"John\", \"country\": \"Nepal\"}))"
   ]
  },
  {
   "cell_type": "code",
   "execution_count": null,
   "outputs": [],
   "source": [
    "polymorphic_methods()"
   ],
   "metadata": {
    "collapsed": false
   },
   "id": "2c8883760beaee41"
  },
  {
   "cell_type": "markdown",
   "source": [
    "#\n",
    "## Polymorphisme de fonctions de classes"
   ],
   "metadata": {
    "collapsed": false
   },
   "id": "e4f634b5a7354580"
  },
  {
   "cell_type": "code",
   "execution_count": 3,
   "outputs": [],
   "source": [
    "class Cat:\n",
    "    def __init__(self, name, age):\n",
    "        self.name = name\n",
    "        self.age = age\n",
    "\n",
    "    def info(self):\n",
    "        print(\n",
    "            f\"I am a cat. My name is {self.name}. \"\n",
    "            f\"I am {self.age} years old.\")\n",
    "\n",
    "    def make_sound(self):\n",
    "        print(\"Miaou !\")\n",
    "\n",
    "\n",
    "class Dog:\n",
    "    def __init__(self, name, age):\n",
    "        self.name = name\n",
    "        self.age = age\n",
    "\n",
    "    def info(self):\n",
    "        print(\n",
    "            f\"I am a dog. My name is {self.name}. \"\n",
    "            f\"I am {self.age} years old.\")\n",
    "\n",
    "    def make_sound(self):\n",
    "        print(\"Ouaf !\")\n"
   ],
   "metadata": {
    "collapsed": false,
    "ExecuteTime": {
     "end_time": "2023-09-24T06:19:13.753763Z",
     "start_time": "2023-09-24T06:19:13.742940Z"
    }
   },
   "id": "dee628e9eaa5932e"
  },
  {
   "cell_type": "code",
   "execution_count": null,
   "outputs": [],
   "source": [
    "cat1 = Cat(\"Kitty\", 2.5)\n",
    "dog1 = Dog(\"Fluffy\", 4)\n",
    "for animal in [cat1, dog1]:\n",
    "    animal.info()\n",
    "    animal.make_sound()"
   ],
   "metadata": {
    "collapsed": false
   },
   "id": "e5929743f1badde3"
  },
  {
   "cell_type": "markdown",
   "source": [
    "#\n",
    "## Polymorphisme par héritage\n",
    "Quand on hérite d'une classe, nous pouvons redéfinir certaines méthodes et attributs \n",
    "spécifiquement pour s'adapter à la classe enfant, connue sous le nom : Method Overriding. \n",
    "Le polymorphisme nous permet d'accéder à ces méthodes et attributs surchargés qui portent \n",
    "le même nom que la classe parent."
   ],
   "metadata": {
    "collapsed": false
   },
   "id": "f60eac2f220676bf"
  },
  {
   "cell_type": "code",
   "execution_count": 6,
   "outputs": [],
   "source": [
    "from math import pi\n",
    "\n",
    "\n",
    "class Shape:\n",
    "    def __init__(self, name):\n",
    "        self.name = name\n",
    "\n",
    "    def area(self):\n",
    "        pass\n",
    "\n",
    "    def fact(self):\n",
    "        return \"I am a two-dimensional shape.\"\n",
    "\n",
    "\n",
    "class Square(Shape):\n",
    "    def __init__(self, length):\n",
    "        super().__init__(\"Square\")\n",
    "        self.length = length\n",
    "\n",
    "    def area(self):\n",
    "        return self.length ** 2\n",
    "\n",
    "    def fact(self):\n",
    "        return \"Squares have each angle equal to 90 degrees.\"\n",
    "\n",
    "\n",
    "class Circle(Shape):\n",
    "    def __init__(self, radius):\n",
    "        super().__init__(\"Circle\")\n",
    "        self.radius = radius\n",
    "\n",
    "    def area(self):\n",
    "        return pi * (self.radius ** 2)\n"
   ],
   "metadata": {
    "collapsed": false,
    "ExecuteTime": {
     "end_time": "2023-09-24T06:22:35.566094Z",
     "start_time": "2023-09-24T06:22:35.559055Z"
    }
   },
   "id": "55b566fb24a97d6"
  },
  {
   "cell_type": "code",
   "execution_count": 11,
   "outputs": [],
   "source": [
    "def display_properties(shape: Shape):\n",
    "    print(f\"{shape.name}: \")\n",
    "    print(f\"{shape.fact()}\")\n",
    "    print(f\"area = {shape.area()}\")\n",
    "    print(\"========================\")"
   ],
   "metadata": {
    "collapsed": false,
    "ExecuteTime": {
     "end_time": "2023-09-24T06:26:08.952902Z",
     "start_time": "2023-09-24T06:26:08.940781Z"
    }
   },
   "id": "73e78c6811438e3c"
  },
  {
   "cell_type": "code",
   "execution_count": null,
   "outputs": [],
   "source": [
    "circle = Circle(2)\n",
    "carre = Square(2)\n",
    "\n",
    "display_properties(circle)\n",
    "display_properties(carre)"
   ],
   "metadata": {
    "collapsed": false
   },
   "id": "d1d922fd0e0a9d27"
  },
  {
   "cell_type": "code",
   "execution_count": null,
   "outputs": [],
   "source": [],
   "metadata": {
    "collapsed": false
   },
   "id": "149f04851916ff24"
  }
 ],
 "metadata": {
  "kernelspec": {
   "display_name": "Python 3",
   "language": "python",
   "name": "python3"
  },
  "language_info": {
   "codemirror_mode": {
    "name": "ipython",
    "version": 2
   },
   "file_extension": ".py",
   "mimetype": "text/x-python",
   "name": "python",
   "nbconvert_exporter": "python",
   "pygments_lexer": "ipython2",
   "version": "2.7.6"
  }
 },
 "nbformat": 4,
 "nbformat_minor": 5
}
