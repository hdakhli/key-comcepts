{
 "cells": [
  {
   "cell_type": "markdown",
   "source": [
    "<a href=\"https://colab.research.google.com/github/hdakhli/key-concepts/blob/main/2_oop_inheritance/vehicle_program.ipynb\" target=\"_parent\"><img src=\"https://colab.research.google.com/assets/colab-badge.svg\" alt=\"Open In Colab\"/></a>"
   ],
   "metadata": {
    "collapsed": false
   },
   "id": "8ffb31edb43b5b72"
  },
  {
   "cell_type": "code",
   "execution_count": 4,
   "id": "initial_id",
   "metadata": {
    "collapsed": true,
    "ExecuteTime": {
     "end_time": "2023-09-24T06:14:24.163675Z",
     "start_time": "2023-09-24T06:14:24.158032Z"
    }
   },
   "outputs": [],
   "source": [
    "class Engine:\n",
    "\n",
    "    def start(self):\n",
    "        print(\"I'm starting...\")"
   ]
  },
  {
   "cell_type": "code",
   "execution_count": 5,
   "outputs": [],
   "source": [
    "class Vehicle:\n",
    "    def __init__(self, color: str, tires: int, engine: Engine):\n",
    "        self._color = color\n",
    "        self._tires = tires\n",
    "        self._engine = engine\n",
    "\n",
    "    def go_to(self, x: float, y: float):\n",
    "        print(f\"I'm moving to {x, y}\")\n",
    "\n",
    "    def brake(self):\n",
    "        print(\"I'm braking...\")\n",
    "\n",
    "    def start(self):\n",
    "        self._engine.start()\n",
    "\n",
    "\n",
    "class Tractor(Vehicle):\n",
    "    def __init__(self, color: str, tires: int, engine: Engine, doors: int):\n",
    "        super().__init__(color, tires, engine)\n",
    "        self._doors = doors"
   ],
   "metadata": {
    "collapsed": false,
    "ExecuteTime": {
     "end_time": "2023-09-24T06:14:25.911618Z",
     "start_time": "2023-09-24T06:14:25.908143Z"
    }
   },
   "id": "6f8e05266625791e"
  },
  {
   "cell_type": "code",
   "execution_count": 6,
   "outputs": [
    {
     "name": "stdout",
     "output_type": "stream",
     "text": [
      "I'm starting...\n"
     ]
    }
   ],
   "source": [
    "tractor = Tractor(\"red\", 4, Engine(), 2)\n",
    "tractor.start()"
   ],
   "metadata": {
    "collapsed": false,
    "ExecuteTime": {
     "end_time": "2023-09-24T06:14:28.265904Z",
     "start_time": "2023-09-24T06:14:28.258580Z"
    }
   },
   "id": "addea19e0c40605"
  },
  {
   "cell_type": "code",
   "execution_count": null,
   "outputs": [],
   "source": [],
   "metadata": {
    "collapsed": false
   },
   "id": "821e2d985b623683"
  }
 ],
 "metadata": {
  "kernelspec": {
   "display_name": "Python 3",
   "language": "python",
   "name": "python3"
  },
  "language_info": {
   "codemirror_mode": {
    "name": "ipython",
    "version": 2
   },
   "file_extension": ".py",
   "mimetype": "text/x-python",
   "name": "python",
   "nbconvert_exporter": "python",
   "pygments_lexer": "ipython2",
   "version": "2.7.6"
  }
 },
 "nbformat": 4,
 "nbformat_minor": 5
}
