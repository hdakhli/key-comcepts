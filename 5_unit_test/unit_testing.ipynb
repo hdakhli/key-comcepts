{
 "cells": [
  {
   "cell_type": "markdown",
   "source": [
    "<a href=\"https://colab.research.google.com/github/hdakhli/key-concepts/blob/main/5_unit_test/unit_testing.ipynb\" target=\"_parent\"><img src=\"https://colab.research.google.com/assets/colab-badge.svg\" alt=\"Open In Colab\"/></a>"
   ],
   "metadata": {
    "collapsed": false
   },
   "id": "e7cf1fce8b59ab42"
  },
  {
   "cell_type": "code",
   "execution_count": 8,
   "id": "initial_id",
   "metadata": {
    "collapsed": true,
    "ExecuteTime": {
     "end_time": "2023-09-24T07:42:35.705947Z",
     "start_time": "2023-09-24T07:42:35.701783Z"
    }
   },
   "outputs": [],
   "source": [
    "class Rectangle:\n",
    "    def __init__(self, width, height):\n",
    "        self.width = width\n",
    "        self.height = height\n",
    "\n",
    "    def get_area(self):\n",
    "        return self.width * self.height"
   ]
  },
  {
   "cell_type": "code",
   "execution_count": null,
   "outputs": [],
   "source": [
    "rectangle = Rectangle(20, 40)\n",
    "print(rectangle.get_area())"
   ],
   "metadata": {
    "collapsed": false
   },
   "id": "d438b2d4972fb1e6"
  },
  {
   "cell_type": "markdown",
   "source": [
    "#\n",
    "## Using unittest librairy"
   ],
   "metadata": {
    "collapsed": false
   },
   "id": "527a1a7afa3e127a"
  },
  {
   "cell_type": "code",
   "execution_count": 21,
   "outputs": [],
   "source": [
    "import unittest\n",
    "\n",
    "class TestGetAreaRectangle(unittest.TestCase):\n",
    "    def test_rectangle_area_calculation(self):\n",
    "        rectangle = Rectangle(2, 3)\n",
    "        self.assertEqual(rectangle.get_area(), 6, \"incorrect area\")"
   ],
   "metadata": {
    "collapsed": false,
    "ExecuteTime": {
     "end_time": "2023-09-24T07:46:01.934118Z",
     "start_time": "2023-09-24T07:46:01.925329Z"
    }
   },
   "id": "fb307dcfdd7dd6d8"
  },
  {
   "cell_type": "code",
   "execution_count": null,
   "outputs": [],
   "source": [
    "TestGetAreaRectangle().test_rectangle_area_calculation()"
   ],
   "metadata": {
    "collapsed": false
   },
   "id": "e105e540f31f4d3f"
  }
 ],
 "metadata": {
  "kernelspec": {
   "display_name": "Python 3",
   "language": "python",
   "name": "python3"
  },
  "language_info": {
   "codemirror_mode": {
    "name": "ipython",
    "version": 2
   },
   "file_extension": ".py",
   "mimetype": "text/x-python",
   "name": "python",
   "nbconvert_exporter": "python",
   "pygments_lexer": "ipython2",
   "version": "2.7.6"
  }
 },
 "nbformat": 4,
 "nbformat_minor": 5
}
