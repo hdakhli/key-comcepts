{
 "cells": [
  {
   "cell_type": "markdown",
   "source": [
    "<a href=\"https://colab.research.google.com/github/hdakhli/key-concepts/blob/main/1_oop_class/phone_program.ipynb\" target=\"_parent\"><img src=\"https://colab.research.google.com/assets/colab-badge.svg\" alt=\"Open In Colab\"/></a>"
   ],
   "metadata": {
    "collapsed": false
   },
   "id": "9424a19d046c8154"
  },
  {
   "cell_type": "code",
   "execution_count": 1,
   "outputs": [],
   "source": [
    "class Phone:\n",
    "    def __init__(self, brand: str, color: str, ram: int, storage: int):\n",
    "        self._brand = brand\n",
    "        self._color = color\n",
    "        self._ram = ram\n",
    "        self._storage = storage\n",
    "\n",
    "    def display_features(self):\n",
    "        print(f\"brand: {self._color}, color: {self._color}, \"\n",
    "              f\"ram: {self._ram}, storage: {self._storage}\")\n",
    "\n",
    "    def call(self, phone_num: str):\n",
    "        print(f\"I'm calling: {phone_num}\")\n",
    "\n",
    "    def send_sms(self, phone_num: str):\n",
    "        print(f\"I'm sending text message to: {phone_num}\")"
   ],
   "metadata": {
    "collapsed": false,
    "ExecuteTime": {
     "end_time": "2023-09-24T06:10:14.686881Z",
     "start_time": "2023-09-24T06:10:14.682580Z"
    }
   },
   "id": "a4820b4347470c3d"
  },
  {
   "cell_type": "code",
   "execution_count": 2,
   "outputs": [],
   "source": [
    "samsung = Phone(\"Samsung\", \"black\", 2048, 60)\n",
    "xiaomi = Phone(\"Xiaomi\", \"Red\", 4096, 120)\n",
    "sony = Phone(\"Sony\", \"Blue\", 4096, 250)"
   ],
   "metadata": {
    "collapsed": false,
    "ExecuteTime": {
     "end_time": "2023-09-24T06:10:24.739880Z",
     "start_time": "2023-09-24T06:10:24.728597Z"
    }
   },
   "id": "faca8facd3aecf58"
  },
  {
   "cell_type": "code",
   "execution_count": null,
   "outputs": [],
   "source": [
    "samsung.display_features()\n",
    "samsung.call(\"+33 6 12 34 56 78\")"
   ],
   "metadata": {
    "collapsed": false
   },
   "id": "5a027bbb60430993"
  },
  {
   "cell_type": "code",
   "execution_count": null,
   "outputs": [],
   "source": [],
   "metadata": {
    "collapsed": false
   },
   "id": "ad05cbcdbef70bc4"
  }
 ],
 "metadata": {
  "kernelspec": {
   "display_name": "Python 3",
   "language": "python",
   "name": "python3"
  },
  "language_info": {
   "codemirror_mode": {
    "name": "ipython",
    "version": 2
   },
   "file_extension": ".py",
   "mimetype": "text/x-python",
   "name": "python",
   "nbconvert_exporter": "python",
   "pygments_lexer": "ipython2",
   "version": "2.7.6"
  }
 },
 "nbformat": 4,
 "nbformat_minor": 5
}
