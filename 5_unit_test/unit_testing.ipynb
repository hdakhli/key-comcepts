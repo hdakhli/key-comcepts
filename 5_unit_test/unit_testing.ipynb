{
 "cells": [
  {
   "cell_type": "markdown",
   "source": [
    "<a href=\"https://colab.research.google.com/github/hdakhli/key-concepts/blob/main/5_unit_test/unit_testing.ipynb\" target=\"_parent\"><img src=\"https://colab.research.google.com/assets/colab-badge.svg\" alt=\"Open In Colab\"/></a>"
   ],
   "metadata": {
    "collapsed": false
   },
   "id": "e7cf1fce8b59ab42"
  },
  {
   "cell_type": "code",
   "execution_count": 1,
   "id": "initial_id",
   "metadata": {
    "collapsed": true,
    "ExecuteTime": {
     "end_time": "2023-10-03T04:17:55.133516Z",
     "start_time": "2023-10-03T04:17:55.126708Z"
    }
   },
   "outputs": [],
   "source": [
    "class Rectangle:\n",
    "    def __init__(self, width, height):\n",
    "        self.width = width\n",
    "        self.height = height\n",
    "\n",
    "    def get_area(self):\n",
    "        return self.width * self.height"
   ]
  },
  {
   "cell_type": "code",
   "execution_count": 2,
   "outputs": [
    {
     "name": "stdout",
     "output_type": "stream",
     "text": [
      "800\n"
     ]
    }
   ],
   "source": [
    "rectangle = Rectangle(20, 40)\n",
    "print(rectangle.get_area())"
   ],
   "metadata": {
    "collapsed": false,
    "ExecuteTime": {
     "end_time": "2023-10-03T04:17:56.254736Z",
     "start_time": "2023-10-03T04:17:56.245478Z"
    }
   },
   "id": "d438b2d4972fb1e6"
  },
  {
   "cell_type": "markdown",
   "source": [
    "#\n",
    "## Using unittest librairy"
   ],
   "metadata": {
    "collapsed": false
   },
   "id": "527a1a7afa3e127a"
  },
  {
   "cell_type": "code",
   "execution_count": 5,
   "outputs": [],
   "source": [
    "import unittest\n",
    "\n",
    "class TestGetAreaRectangle(unittest.TestCase):\n",
    "    def test_rectangle_area_calculation(self):\n",
    "        rectangle = Rectangle(2, 3)\n",
    "        self.assertEqual(rectangle.get_area(), 9, \"incorrect area\")"
   ],
   "metadata": {
    "collapsed": false,
    "ExecuteTime": {
     "end_time": "2023-10-03T04:18:14.250408Z",
     "start_time": "2023-10-03T04:18:14.245032Z"
    }
   },
   "id": "fb307dcfdd7dd6d8"
  },
  {
   "cell_type": "code",
   "execution_count": 6,
   "outputs": [
    {
     "ename": "AssertionError",
     "evalue": "6 != 9 : incorrect area",
     "output_type": "error",
     "traceback": [
      "\u001B[0;31m---------------------------------------------------------------------------\u001B[0m",
      "\u001B[0;31mAssertionError\u001B[0m                            Traceback (most recent call last)",
      "Cell \u001B[0;32mIn[6], line 1\u001B[0m\n\u001B[0;32m----> 1\u001B[0m TestGetAreaRectangle()\u001B[38;5;241m.\u001B[39mtest_rectangle_area_calculation()\n",
      "Cell \u001B[0;32mIn[5], line 6\u001B[0m, in \u001B[0;36mTestGetAreaRectangle.test_rectangle_area_calculation\u001B[0;34m(self)\u001B[0m\n\u001B[1;32m      4\u001B[0m \u001B[38;5;28;01mdef\u001B[39;00m \u001B[38;5;21mtest_rectangle_area_calculation\u001B[39m(\u001B[38;5;28mself\u001B[39m):\n\u001B[1;32m      5\u001B[0m     rectangle \u001B[38;5;241m=\u001B[39m Rectangle(\u001B[38;5;241m2\u001B[39m, \u001B[38;5;241m3\u001B[39m)\n\u001B[0;32m----> 6\u001B[0m     \u001B[38;5;28mself\u001B[39m\u001B[38;5;241m.\u001B[39massertEqual(rectangle\u001B[38;5;241m.\u001B[39mget_area(), \u001B[38;5;241m9\u001B[39m, \u001B[38;5;124m\"\u001B[39m\u001B[38;5;124mincorrect area\u001B[39m\u001B[38;5;124m\"\u001B[39m)\n",
      "File \u001B[0;32m/usr/local/anaconda3/envs/mlops-tp/lib/python3.11/unittest/case.py:873\u001B[0m, in \u001B[0;36mTestCase.assertEqual\u001B[0;34m(self, first, second, msg)\u001B[0m\n\u001B[1;32m    869\u001B[0m \u001B[38;5;250m\u001B[39m\u001B[38;5;124;03m\"\"\"Fail if the two objects are unequal as determined by the '=='\u001B[39;00m\n\u001B[1;32m    870\u001B[0m \u001B[38;5;124;03m   operator.\u001B[39;00m\n\u001B[1;32m    871\u001B[0m \u001B[38;5;124;03m\"\"\"\u001B[39;00m\n\u001B[1;32m    872\u001B[0m assertion_func \u001B[38;5;241m=\u001B[39m \u001B[38;5;28mself\u001B[39m\u001B[38;5;241m.\u001B[39m_getAssertEqualityFunc(first, second)\n\u001B[0;32m--> 873\u001B[0m assertion_func(first, second, msg\u001B[38;5;241m=\u001B[39mmsg)\n",
      "File \u001B[0;32m/usr/local/anaconda3/envs/mlops-tp/lib/python3.11/unittest/case.py:866\u001B[0m, in \u001B[0;36mTestCase._baseAssertEqual\u001B[0;34m(self, first, second, msg)\u001B[0m\n\u001B[1;32m    864\u001B[0m standardMsg \u001B[38;5;241m=\u001B[39m \u001B[38;5;124m'\u001B[39m\u001B[38;5;132;01m%s\u001B[39;00m\u001B[38;5;124m != \u001B[39m\u001B[38;5;132;01m%s\u001B[39;00m\u001B[38;5;124m'\u001B[39m \u001B[38;5;241m%\u001B[39m _common_shorten_repr(first, second)\n\u001B[1;32m    865\u001B[0m msg \u001B[38;5;241m=\u001B[39m \u001B[38;5;28mself\u001B[39m\u001B[38;5;241m.\u001B[39m_formatMessage(msg, standardMsg)\n\u001B[0;32m--> 866\u001B[0m \u001B[38;5;28;01mraise\u001B[39;00m \u001B[38;5;28mself\u001B[39m\u001B[38;5;241m.\u001B[39mfailureException(msg)\n",
      "\u001B[0;31mAssertionError\u001B[0m: 6 != 9 : incorrect area"
     ]
    }
   ],
   "source": [
    "TestGetAreaRectangle().test_rectangle_area_calculation()"
   ],
   "metadata": {
    "collapsed": false,
    "ExecuteTime": {
     "end_time": "2023-10-03T04:18:15.666932Z",
     "start_time": "2023-10-03T04:18:14.830Z"
    }
   },
   "id": "e105e540f31f4d3f"
  },
  {
   "cell_type": "code",
   "execution_count": null,
   "outputs": [],
   "source": [],
   "metadata": {
    "collapsed": false
   },
   "id": "cb0a8f93ae9a8ce2"
  }
 ],
 "metadata": {
  "kernelspec": {
   "display_name": "Python 3",
   "language": "python",
   "name": "python3"
  },
  "language_info": {
   "codemirror_mode": {
    "name": "ipython",
    "version": 2
   },
   "file_extension": ".py",
   "mimetype": "text/x-python",
   "name": "python",
   "nbconvert_exporter": "python",
   "pygments_lexer": "ipython2",
   "version": "2.7.6"
  }
 },
 "nbformat": 4,
 "nbformat_minor": 5
}
