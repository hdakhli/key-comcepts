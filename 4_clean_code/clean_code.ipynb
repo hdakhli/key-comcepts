{
 "cells": [
  {
   "cell_type": "markdown",
   "source": [
    "<a href=\"https://colab.research.google.com/github/hdakhli/key-concepts/blob/main/4_clean_code/clean_code.ipynb\" target=\"_parent\"><img src=\"https://colab.research.google.com/assets/colab-badge.svg\" alt=\"Open In Colab\"/></a>"
   ],
   "metadata": {
    "collapsed": false
   },
   "id": "71cdf50fb5df6262"
  },
  {
   "cell_type": "markdown",
   "source": [
    "# Utiliser des noms de variables significatifs et prononçables"
   ],
   "metadata": {
    "collapsed": false
   },
   "id": "93665d2eabc77dd7"
  },
  {
   "cell_type": "code",
   "execution_count": null,
   "id": "initial_id",
   "metadata": {
    "collapsed": true
   },
   "outputs": [],
   "source": [
    "import datetime\n",
    "\n",
    "current_date_time = datetime.date.today().strftime(\"%d-%m-%Y\")\n"
   ]
  },
  {
   "cell_type": "markdown",
   "source": [
    "#\n",
    "## Utiliser le même vocabulaire pour le même type de variable"
   ],
   "metadata": {
    "collapsed": false
   },
   "id": "151296eb95aa8337"
  },
  {
   "cell_type": "code",
   "execution_count": 11,
   "outputs": [],
   "source": [
    "def get_user_info(): \n",
    "    # some processing here !\n",
    "    pass\n",
    "\n",
    "\n",
    "def get_user_basket():\n",
    "    # some processing here !\n",
    "    pass\n",
    "\n",
    "\n",
    "def get_user_record():\n",
    "    pass"
   ],
   "metadata": {
    "collapsed": false,
    "ExecuteTime": {
     "end_time": "2023-09-22T19:38:07.856186Z",
     "start_time": "2023-09-22T19:38:07.851986Z"
    }
   },
   "id": "ec44ee7f9cf3b03"
  },
  {
   "cell_type": "markdown",
   "source": [
    "### Better !"
   ],
   "metadata": {
    "collapsed": false
   },
   "id": "6ee67977f5b3d397"
  },
  {
   "cell_type": "code",
   "execution_count": 15,
   "outputs": [],
   "source": [
    "from typing import Dict\n",
    "\n",
    "\n",
    "class Record:\n",
    "    # Definir votre record\n",
    "    pass\n",
    "\n",
    "\n",
    "class User:\n",
    "    info: str\n",
    "\n",
    "    def get_basket(self) -> Dict[str, str]:\n",
    "        return {}\n",
    "\n",
    "    def get_record(self) -> Record:\n",
    "        return Record()\n",
    "    \n",
    "user = User()\n",
    "basket = user.get_basket()\n",
    "record = user.get_record()"
   ],
   "metadata": {
    "collapsed": false,
    "ExecuteTime": {
     "end_time": "2023-09-22T19:48:04.716833Z",
     "start_time": "2023-09-22T19:48:04.714951Z"
    }
   },
   "id": "b97de16c924e8315"
  },
  {
   "cell_type": "markdown",
   "source": [
    "#\n",
    "\n",
    "## Utiliser des noms consultables et recherchables"
   ],
   "metadata": {
    "collapsed": false
   },
   "id": "c6ef1daaccf6e693"
  },
  {
   "cell_type": "code",
   "execution_count": 21,
   "outputs": [],
   "source": [
    "import time\n",
    "\n",
    "wait_time_in_seconds = 10\n",
    "# What is the number 10 for again?\n",
    "time.sleep(wait_time_in_seconds)"
   ],
   "metadata": {
    "collapsed": false,
    "ExecuteTime": {
     "end_time": "2023-09-22T19:51:57.182673Z",
     "start_time": "2023-09-22T19:51:47.178446Z"
    }
   },
   "id": "fd5ec7a1827847c8"
  },
  {
   "cell_type": "markdown",
   "source": [
    "#\n",
    "\n",
    "## Eviter le mapping mental"
   ],
   "metadata": {
    "collapsed": false
   },
   "id": "caca9f849f3ae0ba"
  },
  {
   "cell_type": "code",
   "execution_count": null,
   "outputs": [],
   "source": [
    "cities = (\"Austin\", \"New York\", \"San Francisco\")\n",
    "\n",
    "for city in cities:\n",
    "    # do_stuff()\n",
    "    # do_some_other_stuff()\n",
    "\n",
    "    # Wait, what's `item` again?\n",
    "    print(city)"
   ],
   "metadata": {
    "collapsed": false
   },
   "id": "33ed73abf0ddfbdd"
  },
  {
   "cell_type": "markdown",
   "source": [
    "#\n",
    "## Les fonctions doivent faire une seule chose"
   ],
   "metadata": {
    "collapsed": false
   },
   "id": "fb303b011ea53ced"
  },
  {
   "cell_type": "code",
   "execution_count": 23,
   "outputs": [],
   "source": [
    "from typing import List\n",
    "\n",
    "\n",
    "class Client:\n",
    "    active: bool\n",
    "\n",
    "\n",
    "def email(client: Client) -> None:\n",
    "    # send email to client\n",
    "    pass\n",
    "\n",
    "\n",
    "def email_clients(clients: List[Client]) -> None:\n",
    "    \"\"\"\n",
    "    Filter active clients and send them an email.\n",
    "    \"\"\"\n",
    "    for client in clients:\n",
    "        if client.active:\n",
    "            email(client)"
   ],
   "metadata": {
    "collapsed": false,
    "ExecuteTime": {
     "end_time": "2023-09-22T20:11:57.046291Z",
     "start_time": "2023-09-22T20:11:57.032811Z"
    }
   },
   "id": "6e9f4de269dcfd91"
  },
  {
   "cell_type": "code",
   "execution_count": 24,
   "outputs": [],
   "source": [
    "from typing import List\n",
    "\n",
    "\n",
    "class Client:\n",
    "    active: bool\n",
    "\n",
    "\n",
    "def email(client: Client) -> None:\n",
    "    # send email to client\n",
    "    pass\n",
    "\n",
    "\n",
    "def get_active_clients(clients: List[Client]) -> List[Client]:\n",
    "    \"\"\"\n",
    "    Filter active clients.\n",
    "    \"\"\"\n",
    "    return [client for client in clients if client.active]\n",
    "\n",
    "\n",
    "def email_clients(clients: List[Client]) -> None:\n",
    "    \"\"\"\n",
    "    Send an email to a given list of clients.\n",
    "    \"\"\"\n",
    "    for client in get_active_clients(clients):\n",
    "        email(client)"
   ],
   "metadata": {
    "collapsed": false,
    "ExecuteTime": {
     "end_time": "2023-09-22T20:13:16.628571Z",
     "start_time": "2023-09-22T20:13:16.615190Z"
    }
   },
   "id": "ace2fdace883588e"
  },
  {
   "cell_type": "markdown",
   "source": [
    "#\n",
    "## Function arguments (2 or fewer ideally)"
   ],
   "metadata": {
    "collapsed": false
   },
   "id": "b402067a94c59337"
  },
  {
   "cell_type": "code",
   "execution_count": 25,
   "outputs": [],
   "source": [
    "def create_menu(title, body, button_text, cancellable):\n",
    "    pass"
   ],
   "metadata": {
    "collapsed": false,
    "ExecuteTime": {
     "end_time": "2023-09-22T20:20:05.280010Z",
     "start_time": "2023-09-22T20:20:05.262747Z"
    }
   },
   "id": "ea79abe88db9610a"
  },
  {
   "cell_type": "code",
   "execution_count": 31,
   "outputs": [],
   "source": [
    "from dataclasses import astuple, dataclass\n",
    "\n",
    "\n",
    "@dataclass\n",
    "class MenuConfig:\n",
    "    \"\"\"\n",
    "    A configuration for the Menu.\n",
    "\n",
    "    Attributes:\n",
    "        title: The title of the Menu.\n",
    "        body: The body of the Menu.\n",
    "        button_text: The text for the button label.\n",
    "        cancellable: Can it be cancelled?\n",
    "    \"\"\"\n",
    "    title: str\n",
    "    body: str\n",
    "    button_text: str\n",
    "    cancellable: bool = False\n",
    "\n",
    "\n",
    "def create_menu(config: MenuConfig):\n",
    "    title, body, button_text, cancellable = astuple(config)\n",
    "    # ...\n",
    "\n",
    "menu_config = MenuConfig(\n",
    "    title=\"My delicious menu\",\n",
    "    body=\"A description of the various items on the menu\",\n",
    "    button_text=\"Order now!\"\n",
    ")\n",
    "\n",
    "create_menu(menu_config )"
   ],
   "metadata": {
    "collapsed": false,
    "ExecuteTime": {
     "end_time": "2023-09-22T20:23:25.703402Z",
     "start_time": "2023-09-22T20:23:25.699707Z"
    }
   },
   "id": "8bfa704bf07c1a15"
  },
  {
   "cell_type": "markdown",
   "source": [
    "#\n",
    "## Les noms des fonctions doivent indiquer ce qu'elles font"
   ],
   "metadata": {
    "collapsed": false
   },
   "id": "b5e64ccae727e63b"
  },
  {
   "cell_type": "code",
   "execution_count": 32,
   "outputs": [],
   "source": [
    "class Email:\n",
    "    def send(self) -> None:\n",
    "        pass\n",
    "\n",
    "\n",
    "message = Email()\n",
    "# What is this supposed to do again?\n",
    "message.send()"
   ],
   "metadata": {
    "collapsed": false,
    "ExecuteTime": {
     "end_time": "2023-09-22T20:24:26.547262Z",
     "start_time": "2023-09-22T20:24:26.528694Z"
    }
   },
   "id": "392745d45084079b"
  },
  {
   "cell_type": "markdown",
   "source": [
    "#\n",
    "## Eviter les flags dans les paramètres des fonctions"
   ],
   "metadata": {
    "collapsed": false
   },
   "id": "9560a0b7b597af7"
  },
  {
   "cell_type": "code",
   "execution_count": 34,
   "outputs": [],
   "source": [
    "from tempfile import gettempdir\n",
    "from pathlib import Path\n",
    "\n",
    "\n",
    "def create_file(name: str, temp: bool) -> None:\n",
    "    if temp:\n",
    "        (Path(gettempdir()) / name).touch()\n",
    "    else:\n",
    "        Path(name).touch()"
   ],
   "metadata": {
    "collapsed": false,
    "ExecuteTime": {
     "end_time": "2023-09-23T05:20:18.464739Z",
     "start_time": "2023-09-23T05:20:18.454497Z"
    }
   },
   "id": "507d93e370df3a72"
  },
  {
   "cell_type": "markdown",
   "source": [
    "#\n",
    "##"
   ],
   "metadata": {
    "collapsed": false
   },
   "id": "35cba01a4cf631ea"
  },
  {
   "cell_type": "code",
   "execution_count": 36,
   "outputs": [],
   "source": [
    "def create_file(name: str) -> None:\n",
    "    Path(name).touch()\n",
    "\n",
    "\n",
    "def create_temp_file(name: str) -> None:\n",
    "    (Path(gettempdir()) / name).touch()"
   ],
   "metadata": {
    "collapsed": false,
    "ExecuteTime": {
     "end_time": "2023-09-23T06:20:49.968232Z",
     "start_time": "2023-09-23T06:20:49.941284Z"
    }
   },
   "id": "1ece23b0a72188a8"
  },
  {
   "cell_type": "markdown",
   "source": [
    "#\n",
    "#\n",
    "# S O L I D\n",
    "#\n",
    "### Single-responsibility principle (SRP)\n",
    "### Open–closed principle (OCP)\n",
    "### Liskov substitution principle (LSP)\n",
    "### Interface segregation principle (ISP)\n",
    "### Dependency inversion principle (DIP)\n"
   ],
   "metadata": {
    "collapsed": false
   },
   "id": "395bf72f7d41f9b9"
  },
  {
   "cell_type": "markdown",
   "source": [
    "## Single Responsibility Principle\n",
    "Cela signifie qu'une classe ne doit avoir qu'une **seule responsabilité**"
   ],
   "metadata": {
    "collapsed": false
   },
   "id": "fdcc658bfe595e6d"
  },
  {
   "cell_type": "code",
   "execution_count": 38,
   "outputs": [],
   "source": [
    "class FileManager:\n",
    "    def __init__(self, file_path):\n",
    "        self.file_path = file_path\n",
    "\n",
    "    def read_file(self):\n",
    "        pass\n",
    "\n",
    "    def write_file(self, data):\n",
    "        pass\n",
    "\n",
    "class Encryption:\n",
    "    def encrypt_data(self, data):\n",
    "        pass\n",
    "\n",
    "    def decrypt_data(self, data):\n",
    "        pass\n"
   ],
   "metadata": {
    "collapsed": false,
    "ExecuteTime": {
     "end_time": "2023-09-23T06:42:26.459736Z",
     "start_time": "2023-09-23T06:42:26.455636Z"
    }
   },
   "id": "59938625d7e7e982"
  },
  {
   "cell_type": "markdown",
   "source": [
    "#\n",
    "## Open–closed principle (OCP)\n",
    "Un module (class ou fonction) doit être conçu de manière à pouvoir être facilement étendue sans modifier le code existant."
   ],
   "metadata": {
    "collapsed": false
   },
   "id": "d167f3033792c2c3"
  },
  {
   "cell_type": "code",
   "execution_count": null,
   "outputs": [],
   "source": [
    "from abc import ABC, abstractmethod\n",
    "\n",
    "class Shape(ABC):\n",
    "    @abstractmethod\n",
    "    def area(self):\n",
    "        pass\n",
    "\n",
    "class Circle(Shape):\n",
    "    def __init__(self, radius):\n",
    "        self.radius = radius\n",
    "\n",
    "    def area(self):\n",
    "        return 3.14 * self.radius * self.radius\n",
    "\n",
    "class Rectangle(Shape):\n",
    "    def __init__(self, width, height):\n",
    "        self.width = width\n",
    "        self.height = height\n",
    "\n",
    "    def area(self):\n",
    "        return self.width * self.height\n",
    "\n",
    "def calculate_area(shapes):\n",
    "    return sum([shape.area() for shape in shapes])\n",
    "\n",
    "shapes = [Circle(2), Rectangle(2, 4), Circle(4), Rectangle(4, 8)]\n",
    "print(f\"Total area: {calculate_area(shapes)}\")"
   ],
   "metadata": {
    "collapsed": false
   },
   "id": "aca648d50bf657e8"
  },
  {
   "cell_type": "markdown",
   "source": [
    "En utilisant l'héritage et une classe de base abstraite, le code existant peut être étendu pour prendre en charge de nouvelles formes sans avoir à modifier le code existant. Par exemple, si nous voulions ajouter une forme carrée, nous pourrions simplement créer une classe Square qui hériterait de Shape et fournirait une implémentation de la méthode area. Cela respecte le principe OCP, puisque le code existant reste fermé à la modification, tandis que de nouvelles fonctionnalités peuvent être ajoutées par le biais d'une extension."
   ],
   "metadata": {
    "collapsed": false
   },
   "id": "430cd0b86941b1f2"
  },
  {
   "cell_type": "markdown",
   "source": [
    "#\n",
    "## Liskov substitution principle (LSP)\n",
    "Les objets doivent pouvoir être remplacés par des instances de leurs sous-types sans altérer la correction du programme.\n",
    "Principe enoncé par Barbara Liskov lors de sa keynote en 1987: Data abstraction & hierarchy"
   ],
   "metadata": {
    "collapsed": false
   },
   "id": "195e5b3d15af9755"
  },
  {
   "cell_type": "code",
   "execution_count": 47,
   "outputs": [],
   "source": [
    "class Square(Rectangle):\n",
    "    def __init__(self, side):\n",
    "        super().__init__(side, side)"
   ],
   "metadata": {
    "collapsed": false,
    "ExecuteTime": {
     "end_time": "2023-09-23T20:11:38.712059Z",
     "start_time": "2023-09-23T20:11:38.709498Z"
    }
   },
   "id": "cf6791c68c362f1"
  },
  {
   "cell_type": "markdown",
   "source": [
    "#"
   ],
   "metadata": {
    "collapsed": false
   },
   "id": "9c50a6f4be957db0"
  },
  {
   "cell_type": "code",
   "execution_count": 69,
   "outputs": [],
   "source": [
    "class Square(Shape):\n",
    "    def __init__(self, side):\n",
    "        self.side = side\n",
    "\n",
    "    def area(self):\n",
    "        return self.side ** 2\n",
    "    "
   ],
   "metadata": {
    "collapsed": false,
    "ExecuteTime": {
     "end_time": "2023-09-24T05:34:21.901968Z",
     "start_time": "2023-09-24T05:34:21.887438Z"
    }
   },
   "id": "a9b5b7f669b4373"
  },
  {
   "cell_type": "markdown",
   "source": [
    "#\n",
    "## Interface segregation principle (ISP)\n",
    "Réduire la taille des interfaces afin que les utilisateurs ne dépendent pas de choses dont ils n'ont pas besoin."
   ],
   "metadata": {
    "collapsed": false
   },
   "id": "c98cafa19fe800d3"
  },
  {
   "cell_type": "code",
   "execution_count": 75,
   "outputs": [],
   "source": [
    "from abc import ABC, abstractmethod\n",
    "\n",
    "class Printer(ABC):\n",
    "    @abstractmethod\n",
    "    def print(self, document):\n",
    "        pass\n",
    "\n",
    "    @abstractmethod\n",
    "    def fax(self, document):\n",
    "        pass\n",
    "\n",
    "    @abstractmethod\n",
    "    def scan(self, document):\n",
    "        pass\n",
    "\n",
    "class OldPrinter(Printer):\n",
    "    def print(self, document):\n",
    "        print(f\"Printing {document} in black and white...\")\n",
    "\n",
    "    def fax(self, document):\n",
    "        raise NotImplementedError(\"Fax functionality not supported\")\n",
    "\n",
    "    def scan(self, document):\n",
    "        raise NotImplementedError(\"Scan functionality not supported\")\n",
    "\n",
    "class ModernPrinter(Printer):\n",
    "    def print(self, document):\n",
    "        print(f\"Printing {document} in color...\")\n",
    "\n",
    "    def fax(self, document):\n",
    "        print(f\"Faxing {document}...\")\n",
    "\n",
    "    def scan(self, document):\n",
    "        print(f\"Scanning {document}...\")\n"
   ],
   "metadata": {
    "collapsed": false,
    "ExecuteTime": {
     "end_time": "2023-09-24T05:36:10.941709Z",
     "start_time": "2023-09-24T05:36:10.929665Z"
    }
   },
   "id": "af1bbff35012cca7"
  },
  {
   "cell_type": "markdown",
   "source": [
    "#"
   ],
   "metadata": {
    "collapsed": false
   },
   "id": "6127c21ea9523170"
  },
  {
   "cell_type": "code",
   "execution_count": 57,
   "outputs": [],
   "source": [
    "from abc import ABC, abstractmethod\n",
    "\n",
    "class Printer(ABC):\n",
    "    @abstractmethod\n",
    "    def print(self, document):\n",
    "        pass\n",
    "\n",
    "class Fax(ABC):\n",
    "    @abstractmethod\n",
    "    def fax(self, document):\n",
    "        pass\n",
    "\n",
    "class Scanner(ABC):\n",
    "    @abstractmethod\n",
    "    def scan(self, document):\n",
    "        pass\n",
    "\n",
    "class OldPrinter(Printer):\n",
    "    def print(self, document):\n",
    "        print(f\"Printing {document} in black and white...\")\n",
    "\n",
    "class NewPrinter(Printer, Fax, Scanner):\n",
    "    def print(self, document):\n",
    "        print(f\"Printing {document} in color...\")\n",
    "\n",
    "    def fax(self, document):\n",
    "        print(f\"Faxing {document}...\")\n",
    "\n",
    "    def scan(self, document):\n",
    "        print(f\"Scanning {document}...\")"
   ],
   "metadata": {
    "collapsed": false,
    "ExecuteTime": {
     "end_time": "2023-09-23T20:47:22.240460Z",
     "start_time": "2023-09-23T20:47:22.225919Z"
    }
   },
   "id": "ae4dcbd1fb903e1e"
  },
  {
   "cell_type": "markdown",
   "source": [
    "#\n",
    "## Dependency inversion principle (DIP)\n",
    "\n",
    "Les modules de haut niveau ne doivent pas dépendre des modules de bas niveau, mais tous deux doivent dépendre des abstractions"
   ],
   "metadata": {
    "collapsed": false
   },
   "id": "e5bad685289880d0"
  },
  {
   "cell_type": "code",
   "execution_count": null,
   "outputs": [],
   "source": [
    "class Button:\n",
    "    def __init__(self, name: str):\n",
    "        self.name = name\n",
    "\n",
    "    def press(self):\n",
    "        print(f'{self.name} has been pressed.')\n",
    "\n",
    "\n",
    "class Lamp:\n",
    "    def __init__(self, name: str, button: Button):\n",
    "        self.name = name\n",
    "        self.button = button\n",
    "\n",
    "    def turn_on(self):\n",
    "        print(f'{self.name} is turning on.')\n",
    "\n",
    "    def press_button(self):\n",
    "        self.button.press()\n",
    "        self.turn_on()\n",
    "\n",
    "\n",
    "# Usage:\n",
    "button1 = Button('Button1')\n",
    "lamp1 = Lamp('Lamp1', button1)\n",
    "\n",
    "lamp1.press_button()  # This will press the button and then turn on the lamp"
   ],
   "metadata": {
    "collapsed": false
   },
   "id": "964a8d933c90808c"
  },
  {
   "cell_type": "markdown",
   "source": [
    "#"
   ],
   "metadata": {
    "collapsed": false
   },
   "id": "3c313f8c64c74227"
  },
  {
   "cell_type": "code",
   "execution_count": null,
   "outputs": [],
   "source": [
    "from abc import ABC, abstractmethod\n",
    "\n",
    "class ControllableDevice(ABC):\n",
    "\n",
    "    @abstractmethod\n",
    "    def turn_on(self):\n",
    "        pass\n",
    "\n",
    "\n",
    "class Button:\n",
    "    def __init__(self, name):\n",
    "        self.name = name\n",
    "        self.device = None\n",
    "\n",
    "    def set_device(self, device: ControllableDevice):\n",
    "        self.device = device\n",
    "\n",
    "    def press(self):\n",
    "        if self.device is not None:\n",
    "            self.device.turn_on()\n",
    "        else:\n",
    "            print(f'No device is set to {self.name} button.')\n",
    "\n",
    "\n",
    "class Lamp(ControllableDevice):\n",
    "    def __init__(self, name):\n",
    "        self.name = name\n",
    "\n",
    "    def turn_on(self):\n",
    "        print(f'{self.name} is turned on.')\n",
    "\n",
    "\n",
    "class Motor(ControllableDevice):\n",
    "    def __init__(self, name):\n",
    "        self.name = name\n",
    "\n",
    "    def turn_on(self):\n",
    "        print(f'{self.name} is turned on.')\n",
    "\n",
    "\n",
    "# Usage:\n",
    "\n",
    "button1 = Button('Button1')\n",
    "lamp1 = Lamp('Lamp1')\n",
    "button1.set_device(lamp1) # Link button1 with lamp1\n",
    "button1.press() # Turn on the lamp1 using button1\n",
    "\n",
    "button2 = Button('Button2')\n",
    "motor1 = Motor('Motor1')\n",
    "button2.set_device(motor1) # Link button2 with motor1\n",
    "button2.press() # Turn on the motor1 using button2"
   ],
   "metadata": {
    "collapsed": false
   },
   "id": "dbef34cd30da70ae"
  }
 ],
 "metadata": {
  "kernelspec": {
   "display_name": "Python 3",
   "language": "python",
   "name": "python3"
  },
  "language_info": {
   "codemirror_mode": {
    "name": "ipython",
    "version": 2
   },
   "file_extension": ".py",
   "mimetype": "text/x-python",
   "name": "python",
   "nbconvert_exporter": "python",
   "pygments_lexer": "ipython2",
   "version": "2.7.6"
  }
 },
 "nbformat": 4,
 "nbformat_minor": 5
}
